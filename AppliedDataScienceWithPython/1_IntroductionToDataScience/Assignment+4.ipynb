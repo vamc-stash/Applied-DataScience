{
 "cells": [
  {
   "cell_type": "markdown",
   "metadata": {},
   "source": [
    "---\n",
    "\n",
    "_You are currently looking at **version 1.1** of this notebook. To download notebooks and datafiles, as well as get help on Jupyter notebooks in the Coursera platform, visit the [Jupyter Notebook FAQ](https://www.coursera.org/learn/python-data-analysis/resources/0dhYG) course resource._\n",
    "\n",
    "---"
   ]
  },
  {
   "cell_type": "code",
   "execution_count": 3,
   "metadata": {},
   "outputs": [],
   "source": [
    "import pandas as pd\n",
    "import numpy as np\n",
    "from scipy.stats import ttest_ind"
   ]
  },
  {
   "cell_type": "markdown",
   "metadata": {},
   "source": [
    "# Assignment 4 - Hypothesis Testing\n",
    "This assignment requires more individual learning than previous assignments - you are encouraged to check out the [pandas documentation](http://pandas.pydata.org/pandas-docs/stable/) to find functions or methods you might not have used yet, or ask questions on [Stack Overflow](http://stackoverflow.com/) and tag them as pandas and python related. And of course, the discussion forums are open for interaction with your peers and the course staff.\n",
    "\n",
    "Definitions:\n",
    "* A _quarter_ is a specific three month period, Q1 is January through March, Q2 is April through June, Q3 is July through September, Q4 is October through December.\n",
    "* A _recession_ is defined as starting with two consecutive quarters of GDP decline, and ending with two consecutive quarters of GDP growth.\n",
    "* A _recession bottom_ is the quarter within a recession which had the lowest GDP.\n",
    "* A _university town_ is a city which has a high percentage of university students compared to the total population of the city.\n",
    "\n",
    "**Hypothesis**: University towns have their mean housing prices less effected by recessions. Run a t-test to compare the ratio of the mean price of houses in university towns the quarter before the recession starts compared to the recession bottom. (`price_ratio=quarter_before_recession/recession_bottom`)\n",
    "\n",
    "The following data files are available for this assignment:\n",
    "* From the [Zillow research data site](http://www.zillow.com/research/data/) there is housing data for the United States. In particular the datafile for [all homes at a city level](http://files.zillowstatic.com/research/public/City/City_Zhvi_AllHomes.csv), ```City_Zhvi_AllHomes.csv```, has median home sale prices at a fine grained level.\n",
    "* From the Wikipedia page on college towns is a list of [university towns in the United States](https://en.wikipedia.org/wiki/List_of_college_towns#College_towns_in_the_United_States) which has been copy and pasted into the file ```university_towns.txt```.\n",
    "* From Bureau of Economic Analysis, US Department of Commerce, the [GDP over time](http://www.bea.gov/national/index.htm#gdp) of the United States in current dollars (use the chained value in 2009 dollars), in quarterly intervals, in the file ```gdplev.xls```. For this assignment, only look at GDP data from the first quarter of 2000 onward.\n",
    "\n",
    "Each function in this assignment below is worth 10%, with the exception of ```run_ttest()```, which is worth 50%."
   ]
  },
  {
   "cell_type": "code",
   "execution_count": 4,
   "metadata": {},
   "outputs": [],
   "source": [
    "# Use this dictionary to map state names to two letter acronyms\n",
    "states = {'OH': 'Ohio', 'KY': 'Kentucky', 'AS': 'American Samoa', 'NV': 'Nevada', 'WY': 'Wyoming', 'NA': 'National', 'AL': 'Alabama', 'MD': 'Maryland', 'AK': 'Alaska', 'UT': 'Utah', 'OR': 'Oregon', 'MT': 'Montana', 'IL': 'Illinois', 'TN': 'Tennessee', 'DC': 'District of Columbia', 'VT': 'Vermont', 'ID': 'Idaho', 'AR': 'Arkansas', 'ME': 'Maine', 'WA': 'Washington', 'HI': 'Hawaii', 'WI': 'Wisconsin', 'MI': 'Michigan', 'IN': 'Indiana', 'NJ': 'New Jersey', 'AZ': 'Arizona', 'GU': 'Guam', 'MS': 'Mississippi', 'PR': 'Puerto Rico', 'NC': 'North Carolina', 'TX': 'Texas', 'SD': 'South Dakota', 'MP': 'Northern Mariana Islands', 'IA': 'Iowa', 'MO': 'Missouri', 'CT': 'Connecticut', 'WV': 'West Virginia', 'SC': 'South Carolina', 'LA': 'Louisiana', 'KS': 'Kansas', 'NY': 'New York', 'NE': 'Nebraska', 'OK': 'Oklahoma', 'FL': 'Florida', 'CA': 'California', 'CO': 'Colorado', 'PA': 'Pennsylvania', 'DE': 'Delaware', 'NM': 'New Mexico', 'RI': 'Rhode Island', 'MN': 'Minnesota', 'VI': 'Virgin Islands', 'NH': 'New Hampshire', 'MA': 'Massachusetts', 'GA': 'Georgia', 'ND': 'North Dakota', 'VA': 'Virginia'}"
   ]
  },
  {
   "cell_type": "code",
   "execution_count": 5,
   "metadata": {
    "umich_part_id": "021",
    "umich_partlist_id": "004"
   },
   "outputs": [
    {
     "data": {
      "text/html": [
       "<div>\n",
       "<style scoped>\n",
       "    .dataframe tbody tr th:only-of-type {\n",
       "        vertical-align: middle;\n",
       "    }\n",
       "\n",
       "    .dataframe tbody tr th {\n",
       "        vertical-align: top;\n",
       "    }\n",
       "\n",
       "    .dataframe thead th {\n",
       "        text-align: right;\n",
       "    }\n",
       "</style>\n",
       "<table border=\"1\" class=\"dataframe\">\n",
       "  <thead>\n",
       "    <tr style=\"text-align: right;\">\n",
       "      <th></th>\n",
       "      <th>State</th>\n",
       "      <th>RegionName</th>\n",
       "    </tr>\n",
       "  </thead>\n",
       "  <tbody>\n",
       "    <tr>\n",
       "      <th>0</th>\n",
       "      <td>Alabama</td>\n",
       "      <td>Auburn</td>\n",
       "    </tr>\n",
       "    <tr>\n",
       "      <th>1</th>\n",
       "      <td>Alabama</td>\n",
       "      <td>Florence</td>\n",
       "    </tr>\n",
       "    <tr>\n",
       "      <th>2</th>\n",
       "      <td>Alabama</td>\n",
       "      <td>Jacksonville</td>\n",
       "    </tr>\n",
       "    <tr>\n",
       "      <th>3</th>\n",
       "      <td>Alabama</td>\n",
       "      <td>Livingston</td>\n",
       "    </tr>\n",
       "    <tr>\n",
       "      <th>4</th>\n",
       "      <td>Alabama</td>\n",
       "      <td>Montevallo</td>\n",
       "    </tr>\n",
       "    <tr>\n",
       "      <th>...</th>\n",
       "      <td>...</td>\n",
       "      <td>...</td>\n",
       "    </tr>\n",
       "    <tr>\n",
       "      <th>512</th>\n",
       "      <td>Wisconsin</td>\n",
       "      <td>River Falls</td>\n",
       "    </tr>\n",
       "    <tr>\n",
       "      <th>513</th>\n",
       "      <td>Wisconsin</td>\n",
       "      <td>Stevens Point</td>\n",
       "    </tr>\n",
       "    <tr>\n",
       "      <th>514</th>\n",
       "      <td>Wisconsin</td>\n",
       "      <td>Waukesha</td>\n",
       "    </tr>\n",
       "    <tr>\n",
       "      <th>515</th>\n",
       "      <td>Wisconsin</td>\n",
       "      <td>Whitewater</td>\n",
       "    </tr>\n",
       "    <tr>\n",
       "      <th>516</th>\n",
       "      <td>Wyoming</td>\n",
       "      <td>Laramie</td>\n",
       "    </tr>\n",
       "  </tbody>\n",
       "</table>\n",
       "<p>517 rows × 2 columns</p>\n",
       "</div>"
      ],
      "text/plain": [
       "         State     RegionName\n",
       "0      Alabama         Auburn\n",
       "1      Alabama       Florence\n",
       "2      Alabama   Jacksonville\n",
       "3      Alabama     Livingston\n",
       "4      Alabama     Montevallo\n",
       "..         ...            ...\n",
       "512  Wisconsin    River Falls\n",
       "513  Wisconsin  Stevens Point\n",
       "514  Wisconsin       Waukesha\n",
       "515  Wisconsin     Whitewater\n",
       "516    Wyoming        Laramie\n",
       "\n",
       "[517 rows x 2 columns]"
      ]
     },
     "execution_count": 5,
     "metadata": {},
     "output_type": "execute_result"
    }
   ],
   "source": [
    "import re\n",
    "def ans_one():\n",
    "    #df = pd.read_csv('university_towns.txt')\n",
    "    ut_list = []\n",
    "    i = 0\n",
    "    with open('university_towns.txt', 'r') as f:\n",
    "        for line in f:\n",
    "            i += 1\n",
    "            if re.search('\\[edit]', line):\n",
    "                state = re.sub('\\[edit]','',line).strip()\n",
    "                i -= 1\n",
    "            elif re.search('\\(.*', line):\n",
    "                region = re.sub('\\(.*', '', line).strip()\n",
    "                ut_list.append([state, region])\n",
    "            else:\n",
    "                region = line.strip()\n",
    "                ut_list.append([state, region])\n",
    "    f.close()\n",
    "    df = pd.DataFrame(ut_list, columns = ['State', 'RegionName'])\n",
    "    return df\n",
    "\n",
    "def get_list_of_university_towns():\n",
    "    '''Returns a DataFrame of towns and the states they are in from the \n",
    "    university_towns.txt list. The format of the DataFrame should be:\n",
    "    DataFrame( [ [\"Michigan\", \"Ann Arbor\"], [\"Michigan\", \"Yipsilanti\"] ], \n",
    "    columns=[\"State\", \"RegionName\"]  )\n",
    "    \n",
    "    The following cleaning needs to be done:\n",
    "\n",
    "    1. For \"State\", removing characters from \"[\" to the end.\n",
    "    2. For \"RegionName\", when applicable, removing every character from \" (\" to the end.\n",
    "    3. Depending on how you read the data, you may need to remove newline character '\\n'. '''\n",
    "    \n",
    "    return ans_one()\n",
    "ans_one()"
   ]
  },
  {
   "cell_type": "code",
   "execution_count": 198,
   "metadata": {
    "umich_part_id": "022",
    "umich_partlist_id": "004"
   },
   "outputs": [
    {
     "data": {
      "text/plain": [
       "'2008q3'"
      ]
     },
     "execution_count": 198,
     "metadata": {},
     "output_type": "execute_result"
    }
   ],
   "source": [
    "def ans_two():\n",
    "    gdp = pd.read_excel('gdplev.xls')\n",
    "    gdp.drop(gdp.columns[[0,1,2,3,5,7]], axis = 1, inplace = True)\n",
    "    gdp.columns = ['YearQuarters', 'GDP(billions of chained 2009 dollars)']\n",
    "    gdp = gdp[219:]\n",
    "    gdp.reset_index(inplace = True)\n",
    "    gdp.drop(gdp.columns[[0]], axis = 1, inplace = True)\n",
    "    \n",
    "    for i in range(4, len(gdp)):\n",
    "        if (gdp.iloc[i-4, 1] > gdp.iloc[i-3, 1]) and (gdp.iloc[i-3, 1] > gdp.iloc[i-2, 1]) and (gdp.iloc[i-2, 1] < gdp.iloc[i-1, 1]) and (gdp.iloc[i-1, 1] < gdp.iloc[i, 1]):\n",
    "             recession_base_idx = i-4\n",
    "    \n",
    "    result = gdp.iloc[recession_base_idx, 0]\n",
    "    j = recession_base_idx\n",
    "    while True:\n",
    "        if (gdp.iloc[j-1, 1] > gdp.iloc[j, 1]):\n",
    "            j -= 1\n",
    "        else:\n",
    "            result = gdp.iloc[j+1, 0]\n",
    "            break\n",
    "        \n",
    "    return result\n",
    "\n",
    "def get_recession_start():\n",
    "    '''Returns the year and quarter of the recession start time as a \n",
    "    string value in a format such as 2005q3'''\n",
    "    \n",
    "    return ans_two()\n",
    "ans_two()"
   ]
  },
  {
   "cell_type": "code",
   "execution_count": 199,
   "metadata": {
    "umich_part_id": "023",
    "umich_partlist_id": "004"
   },
   "outputs": [
    {
     "data": {
      "text/plain": [
       "'2009q4'"
      ]
     },
     "execution_count": 199,
     "metadata": {},
     "output_type": "execute_result"
    }
   ],
   "source": [
    "def ans_three():\n",
    "    gdp = pd.read_excel('gdplev.xls')\n",
    "    gdp.drop(gdp.columns[[0,1,2,3,5,7]], axis = 1, inplace = True)\n",
    "    gdp.columns = ['YearQuarters', 'GDP(billions of chained 2009 dollars)']\n",
    "    gdp = gdp[219:]\n",
    "    gdp.reset_index(inplace = True)\n",
    "    gdp.drop(gdp.columns[[0]], axis = 1, inplace = True)\n",
    "    \n",
    "    for i in range(4, len(gdp)):\n",
    "        if (gdp.iloc[i-4, 1] > gdp.iloc[i-3, 1]) and (gdp.iloc[i-3, 1] > gdp.iloc[i-2, 1]) and (gdp.iloc[i-2, 1] < gdp.iloc[i-1, 1]) and (gdp.iloc[i-1, 1] < gdp.iloc[i, 1]):\n",
    "             return gdp.iloc[i,0]\n",
    "            \n",
    "            \n",
    "def get_recession_end():\n",
    "    '''Returns the year and quarter of the recession end time as a \n",
    "    string value in a format such as 2005q3'''\n",
    "       \n",
    "    return ans_three()\n",
    "ans_three()"
   ]
  },
  {
   "cell_type": "code",
   "execution_count": 200,
   "metadata": {
    "umich_part_id": "024",
    "umich_partlist_id": "004"
   },
   "outputs": [
    {
     "data": {
      "text/plain": [
       "'2009q2'"
      ]
     },
     "execution_count": 200,
     "metadata": {},
     "output_type": "execute_result"
    }
   ],
   "source": [
    "def ans_four():\n",
    "    gdp = pd.read_excel('gdplev.xls')\n",
    "    gdp.drop(gdp.columns[[0,1,2,3,5,7]], axis = 1, inplace = True)\n",
    "    gdp.columns = ['YearQuarters', 'GDP(billions of chained 2009 dollars)']\n",
    "    gdp = gdp[219:]\n",
    "    gdp.reset_index(inplace = True)\n",
    "    gdp.drop(gdp.columns[[0]], axis = 1, inplace = True)\n",
    "    \n",
    "    for i in range(4, len(gdp)):\n",
    "        if (gdp.iloc[i-4, 1] > gdp.iloc[i-3, 1]) and (gdp.iloc[i-3, 1] > gdp.iloc[i-2, 1]) and (gdp.iloc[i-2, 1] < gdp.iloc[i-1, 1]) and (gdp.iloc[i-1, 1] < gdp.iloc[i, 1]):\n",
    "             return gdp.iloc[i-2,0]\n",
    "        \n",
    "def get_recession_bottom():\n",
    "    '''Returns the year and quarter of the recession bottom time as a \n",
    "    string value in a format such as 2005q3'''\n",
    "    \n",
    "    return ans_four()\n",
    "ans_four()"
   ]
  },
  {
   "cell_type": "code",
   "execution_count": 213,
   "metadata": {},
   "outputs": [],
   "source": [
    "import pandas as pd\n",
    "import numpy as np\n",
    "\n",
    "states = {'OH': 'Ohio', 'KY': 'Kentucky', 'AS': 'American Samoa', 'NV': 'Nevada', 'WY': 'Wyoming', 'NA': 'National', 'AL': 'Alabama', 'MD': 'Maryland', 'AK': 'Alaska', 'UT': 'Utah', 'OR': 'Oregon', 'MT': 'Montana', 'IL': 'Illinois', 'TN': 'Tennessee', 'DC': 'District of Columbia', 'VT': 'Vermont', 'ID': 'Idaho', 'AR': 'Arkansas', 'ME': 'Maine', 'WA': 'Washington', 'HI': 'Hawaii', 'WI': 'Wisconsin', 'MI': 'Michigan', 'IN': 'Indiana', 'NJ': 'New Jersey', 'AZ': 'Arizona', 'GU': 'Guam', 'MS': 'Mississippi', 'PR': 'Puerto Rico', 'NC': 'North Carolina', 'TX': 'Texas', 'SD': 'South Dakota', 'MP': 'Northern Mariana Islands', 'IA': 'Iowa', 'MO': 'Missouri', 'CT': 'Connecticut', 'WV': 'West Virginia', 'SC': 'South Carolina', 'LA': 'Louisiana', 'KS': 'Kansas', 'NY': 'New York', 'NE': 'Nebraska', 'OK': 'Oklahoma', 'FL': 'Florida', 'CA': 'California', 'CO': 'Colorado', 'PA': 'Pennsylvania', 'DE': 'Delaware', 'NM': 'New Mexico', 'RI': 'Rhode Island', 'MN': 'Minnesota', 'VI': 'Virgin Islands', 'NH': 'New Hampshire', 'MA': 'Massachusetts', 'GA': 'Georgia', 'ND': 'North Dakota', 'VA': 'Virginia'}\n",
    "\n",
    "def answer_five():\n",
    "    hous = pd.read_csv('City_Zhvi_AllHomes.csv')\n",
    "    #hous = hous.fillna(0)\n",
    "    req_cols = hous.loc[:, hous.columns.str.startswith('20')]\n",
    "    \n",
    "    req_prev = req_cols.columns\n",
    "    req_cols_names = req_cols.columns.tolist()\n",
    "    q = ['q1','q2','q3','q4']\n",
    "    \n",
    "    q_index = 0\n",
    "    i = 0\n",
    "\n",
    "    while i+3 < (len(req_cols_names)):\n",
    "        new_col = req_cols_names[i][0:4] + q[(q_index)%4]\n",
    "        roo = [req_cols_names[i], req_cols_names[i+1], req_cols_names[i+2], req_cols_names[i+3]]\n",
    "        req_cols[new_col] = req_cols.apply(lambda row : np.mean(row[roo]), axis = 1)\n",
    "        i += 3 \n",
    "        q_index += 1\n",
    "\n",
    "    req_cols['2016q3'] = req_cols.apply(lambda row : np.mean(row[['2016-07', '2016-08']]), axis = 1)\n",
    "    req_cols.drop(req_prev, axis = 1, inplace = True)\n",
    "    \n",
    "    hous = hous[['RegionName', 'State']]\n",
    "    abbr = pd.DataFrame(pd.Series(states))\n",
    "    \n",
    "    hous = pd.merge(hous, abbr, how = \"inner\", left_on = 'State', right_index = True)\n",
    "    \n",
    "    hous.columns = ['RegionName', 'StateAbr', 'State']\n",
    "    hous.drop(['StateAbr'], axis = 1, inplace = True)\n",
    "    \n",
    "    hous = pd.merge(hous, req_cols, how = \"inner\", left_index = True, right_index = True)\n",
    "    \n",
    "    hous.set_index(['State', 'RegionName'], inplace = True)\n",
    "    \n",
    "    return hous\n",
    "\n",
    "def convert_housing_data_to_quarters():\n",
    "    '''Converts the housing data to quarters and returns it as mean \n",
    "    values in a dataframe. This dataframe should be a dataframe with\n",
    "    columns for 2000q1 through 2016q3, and should have a multi-index\n",
    "    in the shape of [\"State\",\"RegionName\"].\n",
    "    \n",
    "    Note: Quarters are defined in the assignment description, they are\n",
    "    not arbitrary three month periods.\n",
    "    \n",
    "    The resulting dataframe should have 67 columns, and 10,730 rows.\n",
    "    '''\n",
    "    \n",
    "    return answer_five()"
   ]
  },
  {
   "cell_type": "code",
   "execution_count": null,
   "metadata": {},
   "outputs": [],
   "source": []
  },
  {
   "cell_type": "code",
   "execution_count": 176,
   "metadata": {},
   "outputs": [],
   "source": []
  },
  {
   "cell_type": "code",
   "execution_count": 214,
   "metadata": {
    "umich_part_id": "026",
    "umich_partlist_id": "004"
   },
   "outputs": [
    {
     "name": "stderr",
     "output_type": "stream",
     "text": [
      "<ipython-input-213-674599734941>:21: SettingWithCopyWarning: \n",
      "A value is trying to be set on a copy of a slice from a DataFrame.\n",
      "Try using .loc[row_indexer,col_indexer] = value instead\n",
      "\n",
      "See the caveats in the documentation: https://pandas.pydata.org/pandas-docs/stable/user_guide/indexing.html#returning-a-view-versus-a-copy\n",
      "  req_cols[new_col] = req_cols.apply(lambda row : np.mean(row[roo]), axis = 1)\n"
     ]
    },
    {
     "data": {
      "text/plain": [
       "(True, 0.0018000091375413134, 'university town')"
      ]
     },
     "execution_count": 214,
     "metadata": {},
     "output_type": "execute_result"
    }
   ],
   "source": [
    "from scipy.stats import ttest_ind\n",
    "\n",
    "def ans_final():\n",
    "    univ_towns = get_list_of_university_towns()\n",
    "    univ_towns['univ_town'] = True\n",
    "    univ_towns.set_index(['State', 'RegionName'], inplace = True)\n",
    "    \n",
    "    hous_qua = convert_housing_data_to_quarters()\n",
    "    \n",
    "    r_start = get_recession_start()\n",
    "    r_bottom =  get_recession_bottom()\n",
    "    start = hous_qua.columns[hous_qua.columns.get_loc(r_start)-1]\n",
    "    \n",
    "    hous_qua['ratio'] = hous_qua[start] - hous_qua[r_bottom]\n",
    "    hous_qua = hous_qua[[start, r_bottom, 'ratio']]\n",
    "    \n",
    "    \n",
    "    df_tmp = pd.merge(hous_qua, univ_towns, how = \"inner\", left_index = True, right_index = True).reset_index()\n",
    "    hous_qua.reset_index(inplace = True)\n",
    "    df = pd.merge(hous_qua, df_tmp, how = \"outer\",  on = ['State', 'RegionName', start, r_bottom, 'ratio'])\n",
    "    df['univ_town'] = df['univ_town'].fillna(False)\n",
    "    \n",
    "    ut = df[df['univ_town'] == True]\n",
    "    nut = df[df['univ_town'] == False]\n",
    "    \n",
    "    t,p = ttest_ind(ut['ratio'].dropna(), nut['ratio'].dropna())\n",
    "    \n",
    "    different = True if p < 0.01 else False\n",
    "    \n",
    "    better = \"university town\" if ut['ratio'].mean() < nut['ratio'].mean() else \"non-university town\"\n",
    "    \n",
    "    return (different, p, better)\n",
    "\n",
    "def run_ttest():\n",
    "    '''First creates new data showing the decline or growth of housing prices\n",
    "    between the recession start and the recession bottom. Then runs a ttest\n",
    "    comparing the university town values to the non-university towns values, \n",
    "    return whether the alternative hypothesis (that the two groups are the same)\n",
    "    is true or not as well as the p-value of the confidence. \n",
    "    \n",
    "    Return the tuple (different, p, better) where different=True if the t-test is\n",
    "    True at a p<0.01 (we reject the null hypothesis), or different=False if \n",
    "    otherwise (we cannot reject the null hypothesis). The variable p should\n",
    "    be equal to the exact p value returned from scipy.stats.ttest_ind(). The\n",
    "    value for better should be either \"university town\" or \"non-university town\"\n",
    "    depending on which has a lower mean price ratio (which is equivilent to a\n",
    "    reduced market loss).'''\n",
    "    \n",
    "    return ans_final()\n",
    "ans_final()"
   ]
  }
 ],
 "metadata": {
  "coursera": {
   "course_slug": "python-data-analysis",
   "graded_item_id": "Il9Fx",
   "launcher_item_id": "TeDW0",
   "part_id": "WGlun"
  },
  "kernelspec": {
   "display_name": "Python 3",
   "language": "python",
   "name": "python3"
  },
  "language_info": {
   "codemirror_mode": {
    "name": "ipython",
    "version": 3
   },
   "file_extension": ".py",
   "mimetype": "text/x-python",
   "name": "python",
   "nbconvert_exporter": "python",
   "pygments_lexer": "ipython3",
   "version": "3.7.9"
  },
  "umich": {
   "id": "Assignment 4",
   "version": "1.1"
  }
 },
 "nbformat": 4,
 "nbformat_minor": 1
}
